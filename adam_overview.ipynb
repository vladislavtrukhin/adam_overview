{
  "cells": [
    {
      "cell_type": "markdown",
      "metadata": {},
      "source": [
        "# A Review on Adam Stochastic Optimization\n",
        "\n",
        "Original Code: https://github.com/abe-shek/ML-model-comparison"
      ]
    },
    {
      "cell_type": "code",
      "execution_count": 1,
      "metadata": {},
      "outputs": [],
      "source": [
        "# datasets \n",
        "from sklearn.datasets import load_digits \n",
        "\n",
        "# data processing\n",
        "from sklearn.preprocessing import StandardScaler  \n",
        "from sklearn.model_selection import train_test_split  \n",
        "from sklearn.metrics import accuracy_score \n",
        "\n",
        "# implemtation\n",
        "import numpy as np\n",
        "import numpy.random as r \n",
        "\n",
        "# plotting\n",
        "import matplotlib.pyplot as plt \n"
      ]
    },
    {
      "cell_type": "markdown",
      "metadata": {},
      "source": [
        "## MNIST Loading"
      ]
    },
    {
      "cell_type": "code",
      "execution_count": 2,
      "metadata": {
        "id": "FWfKI5mS9_Ia"
      },
      "outputs": [],
      "source": [
        "def convert_y_to_vect(y):\n",
        "    y_vect = np.zeros((len(y), 10))\n",
        "    for i in range(len(y)):\n",
        "        y_vect[i, y[i]] = 1\n",
        "    return y_vect\n",
        "\n",
        "def load_mnist_data(source=\"sk\"):\n",
        "    if source == \"sk\":\n",
        "        digits=load_digits()\n",
        "        X = digits.data\n",
        "        y = digits.target\n",
        "        \n",
        "    X_scale = StandardScaler()\n",
        "    X = X_scale.fit_transform(X)\n",
        "    x_train, x_test, y_train, y_test = train_test_split(X, y, test_size=0.4)\n",
        "    \n",
        "    y_train = convert_y_to_vect(y_train)\n",
        "#     y_test = convert_y_to_vect(y_test)\n",
        "    \n",
        "    return (x_train, y_train), (x_test, y_test)"
      ]
    },
    {
      "cell_type": "markdown",
      "metadata": {},
      "source": [
        "## Neural Network Model"
      ]
    },
    {
      "cell_type": "code",
      "execution_count": 3,
      "metadata": {
        "id": "v7SRHVUa-QZ7"
      },
      "outputs": [],
      "source": [
        "def initializers(nn_structure, acti=\"relu\", mode=\"weights\"):\n",
        "    W = {}; b = {};\n",
        "    dW = {}; db = {};\n",
        "    VdW = {}; Vdb = {};\n",
        "    SdW = {}; Sdb = {}\n",
        "    for l in range(1, len(nn_structure)):\n",
        "        if mode==\"weights\":\n",
        "            [low, high, inter] = [0., 1., 0.]\n",
        "            if acti==\"sigmoid\":\n",
        "                inter = np.sqrt((6)/(nn_structure[l] + nn_structure[l-1]))\n",
        "            elif acti==\"relu\":\n",
        "                inter = np.sqrt((6.)/float(nn_structure[l] + nn_structure[l-1]))\n",
        "\n",
        "            W[l] = r.uniform(low=-inter, high=inter, size=(nn_structure[l], nn_structure[l-1])) \n",
        "            b[l] = r.uniform(low=-inter, high=inter, size=(nn_structure[l],))\n",
        "        elif mode==\"gradients\":\n",
        "            dW[l] = np.zeros((nn_structure[l], nn_structure[l-1]))\n",
        "            db[l] = np.zeros((nn_structure[l],))\n",
        "        elif mode==\"momentum\":\n",
        "            VdW[l] = np.zeros((nn_structure[l], nn_structure[l-1]))\n",
        "            Vdb[l] = np.zeros((nn_structure[l],))\n",
        "        elif mode==\"rms_prop\": \n",
        "            SdW[l] = np.zeros((nn_structure[l], nn_structure[l-1]))\n",
        "            Sdb[l] = np.zeros((nn_structure[l],))\n",
        "        elif mode==\"adam\": \n",
        "            VdW[l] = np.zeros((nn_structure[l], nn_structure[l-1]))\n",
        "            Vdb[l] = np.zeros((nn_structure[l],))\n",
        "            SdW[l] = np.zeros((nn_structure[l], nn_structure[l-1]))\n",
        "            Sdb[l] = np.zeros((nn_structure[l],))\n",
        "    if mode==\"weights\":\n",
        "        return W, b\n",
        "    elif mode==\"gradients\":\n",
        "        return dW, db\n",
        "    elif mode==\"momentum\":\n",
        "        return VdW, Vdb\n",
        "    elif mode==\"rms_prop\":\n",
        "        return SdW, Sdb\n",
        "    elif mode==\"adam\":\n",
        "        return VdW, Vdb, SdW, Sdb\n",
        "    return None, None\n",
        "\n",
        "\n",
        "def regularizers(W, lamda, mode=\"l2\"):\n",
        "    if mode == \"l2\":\n",
        "        l2_cost = 0.\n",
        "        for l in range(1, len(W)):\n",
        "            l2_cost += np.sum(np.square(W[l]))\n",
        "        return (lamda/2.)*l2_cost\n",
        "    return 0\n",
        "\n",
        "\n",
        "def f(z, activation=\"relu\", deri=False):\n",
        "    if deri:\n",
        "        fz_d = 0\n",
        "        if activation == \"sigmoid\":\n",
        "            fz_d = f(z, activation=\"sigmoid\") * (1 - f(z, activation=\"sigmoid\"))\n",
        "        elif activation == \"relu\":\n",
        "            fz_d = (z>=0).astype(\"int\")\n",
        "        return fz_d\n",
        "    else:\n",
        "        fz = 0\n",
        "        if activation == \"sigmoid\":\n",
        "            fz = 1 / (1 + np.exp(-z))\n",
        "        elif activation == \"relu\":\n",
        "            fz = np.maximum(0, z)\n",
        "        return fz\n",
        "\n",
        "\n",
        "def forward_prop(x, W, b, acti=\"relu\"):\n",
        "    a = {1: x}\n",
        "    z = {} \n",
        "    for l in range(1, len(W) + 1):\n",
        "        node_in = a[l]\n",
        "        z[l+1] = W[l].dot(node_in) + b[l]  \n",
        "        a[l+1] = f(z[l+1], activation=acti) \n",
        "    return a, z\n",
        "\n",
        "\n",
        "def back_prop(y, a, z, W, b, dW, db, acti=\"relu\", regularizer=[0.01, \"l2\"]):\n",
        "    delta = {}\n",
        "    cost = 0\n",
        "    for l in range(len(a), 0, -1):\n",
        "        if l == len(a):\n",
        "            delta[l] = -(y-a[l]) * f(z[l], activation=acti, deri=True) \n",
        "            cost = np.linalg.norm((y-a[l]))\n",
        "            if regularizer and len(regularizer) == 2:\n",
        "                 cost += regularizers(W,regularizer[0],mode=regularizer[1])\n",
        "        else:\n",
        "            if l > 1:\n",
        "                delta[l] = np.dot(np.transpose(W[l]), delta[l+1]) * f(z[l], activation=acti, deri=True)\n",
        "                \n",
        "            dW[l] += np.dot(delta[l+1][:,np.newaxis], np.transpose(a[l][:,np.newaxis]))\n",
        "            db[l] += delta[l+1]\n",
        "    return dW, db, cost\n",
        "\n",
        "\n",
        "def plot_cost(cost):\n",
        "    plt.plot(cost)\n",
        "    plt.ylabel('Average J')\n",
        "    plt.xlabel('Epochs')\n",
        "    plt.show()"
      ]
    },
    {
      "cell_type": "code",
      "execution_count": 4,
      "metadata": {
        "id": "ByAHK50F-WLv"
      },
      "outputs": [],
      "source": [
        "def train(nn_structure, X, y, params, verbose=0):\n",
        "    [ext, activation, batch_size, epochs, alpha, reg] = params\n",
        "    cnt = 1\n",
        "    N = len(y)\n",
        "    if not batch_size:\n",
        "        batch_size = N\n",
        "    avg_cost_func = []\n",
        "    if verbose==1:\n",
        "        print('Starting gradient descent for {} iterations\\n\\n'.format(epochs))    \n",
        "    while cnt <= epochs:\n",
        "        if verbose==1:\n",
        "            print('Epoch {} of {}\\n'.format(cnt, epochs))\n",
        "        \n",
        "        if cnt == 1:\n",
        "             W, b = initializers(nn_structure, acti=activation, mode=\"weights\")\n",
        "        epoch_cost = 0\n",
        "        for j in range(0, N, batch_size):\n",
        "            avg_cost = 0        \n",
        "            dW, db = initializers(nn_structure, acti=activation, mode=\"gradients\")\n",
        "            if ext and ext[\"name\"] == \"momentum\":\n",
        "                VdW, Vdb = initializers(nn_structure, mode=\"momentum\")\n",
        "            if ext and ext[\"name\"] == \"rms_prop\":\n",
        "                SdW, Sdb = initializers(nn_structure, mode=\"rms_prop\")\n",
        "            if ext and ext[\"name\"] == \"adam\":\n",
        "                VdW, Vdb, SdW, Sdb = initializers(nn_structure, mode=\"adam\")\n",
        "\n",
        "            for i in range(j, min(j+batch_size,N), 1):\n",
        "                a, z = forward_prop(X[i, :], W, b, acti=activation)\n",
        "                dW, db, cost = back_prop(y[i,:], a, z, W, b, dW, db, acti=activation, regularizer=reg)\n",
        "                avg_cost += cost\n",
        "                if ext and ext[\"name\"] == \"momentum\":\n",
        "                    VdW, Vdb = add_momentum(VdW, dW, Vdb, db, ext[\"params\"][\"beta\"])\n",
        "                if ext and ext[\"name\"] == \"rms_prop\":\n",
        "                    SdW, Sdb = rms_prop(SdW, dW, Sdb, db, ext[\"params\"][\"beta2\"])\n",
        "                if ext and ext[\"name\"] == \"adam\":\n",
        "                    VdW, Vdb, SdW, Sdb = adam(VdW, Vdb, SdW, dW, Sdb, db, ext[\"params\"][\"beta1\"], ext[\"params\"][\"beta2\"])\n",
        "\n",
        "            for l in range(len(nn_structure) - 1, 0, -1):\n",
        "                if ext and ext[\"name\"] == \"momentum\":\n",
        "                    W[l] += -alpha * (1.0/batch_size * VdW[l] + reg[0]*W[l])\n",
        "                    b[l] += -alpha * (1.0/batch_size * Vdb[l])\n",
        "                if ext and ext[\"name\"] == \"rms_prop\":\n",
        "                    W[l] += -alpha * (1.0/batch_size * (dW[l]/(np.sqrt(SdW[l]) + ext[\"params\"][\"epsilon\"])) + reg[0]*W[l])\n",
        "                    b[l] += -alpha * (1.0/batch_size * (db[l]/(np.sqrt(Sdb[l]) + ext[\"params\"][\"epsilon\"])))\n",
        "                if ext and ext[\"name\"] == \"adam\":\n",
        "                    # bias correction\n",
        "                    t = j % batch_size + 1\n",
        "                    VdW_corr = VdW[l]/(1-ext[\"params\"][\"beta1\"]**t)\n",
        "                    Vdb_corr = Vdb[l]/(1-ext[\"params\"][\"beta1\"]**t)\n",
        "                    SdW_corr = SdW[l]/(1-ext[\"params\"][\"beta2\"]**t)\n",
        "                    Sdb_corr = Sdb[l]/(1-ext[\"params\"][\"beta2\"]**t)\n",
        "                    \n",
        "                    W[l] += -alpha * (1.0/batch_size * (VdW_corr/(np.sqrt(SdW_corr) + ext[\"params\"][\"epsilon\"])) + reg[0]*W[l])\n",
        "                    b[l] += -alpha * (1.0/batch_size * (Vdb_corr/(np.sqrt(Sdb_corr) + ext[\"params\"][\"epsilon\"])))\n",
        "                else:\n",
        "                    W[l] += -alpha * (1.0/batch_size * dW[l] + reg[0]*W[l])\n",
        "                    b[l] += -alpha * (1.0/batch_size * db[l])\n",
        "\n",
        "            avg_cost = 1.0/batch_size * avg_cost\n",
        "            epoch_cost += avg_cost\n",
        "            \n",
        "        avg_cost_func.append(epoch_cost/float(N/batch_size))\n",
        "        cnt += 1\n",
        "    if verbose>=1:\n",
        "        plot_cost(avg_cost_func)\n",
        "    return W, b, avg_cost_func\n",
        "\n",
        "\n",
        "def evaluate(X, y, W, b, n_layers, verbose=0):\n",
        "    N = X.shape[0]\n",
        "    y_pred = np.zeros((N,))\n",
        "    for i in range(N):\n",
        "        a, z = forward_prop(X[i, :], W, b)\n",
        "        y_pred[i] = np.argmax(a[n_layers])\n",
        "    accuracy = accuracy_score(y, y_pred)\n",
        "    print('Prediction accuracy = {:0.2f} %'.format(accuracy * 100))\n",
        "    return accuracy\n",
        "    \n",
        "    \n",
        "def compile_nn(source=\"sk\", ext=None, lr=0.1, num_runs=1, batch_size=None, epochs=300, verbose=0):\n",
        "    nn_structure = [64 if source==\"sk\" else 784, 30, 10]\n",
        "    params = [ext, \"relu\", batch_size, epochs, lr, [0.01,\"l2\"]]\n",
        "    [_, activation,_, epochs, alpha, reg] = params\n",
        "    \n",
        "    if verbose>=1:\n",
        "        print(\"\\n---------------------------\\n\")\n",
        "        print(\"Training Nerual Network with - \\n\\nStructure - {}\\nExtension - {}\\nActivation Function - {}\\nBatch Size - {}\\nEpochs - {}\\nLearning Rate - {}\\nRegularization - {}\".format(nn_structure, ext if ext else \"Naive\", activation, batch_size if batch_size else \"Full\", epochs, alpha, reg))\n",
        "        print(\"\\n---------------------------\\n\")\n",
        "    elif ext:\n",
        "        print(\"Training with extension - {}\".format(ext))\n",
        "    \n",
        "    avg_accuracy = []\n",
        "    \n",
        "    for i in range(1, num_runs+1):\n",
        "        (X_train, y_train), (X_test, y_test) = load_mnist_data(source)\n",
        "        W, b, avg_cost_func = train(nn_structure, X_train, y_train, params, verbose)\n",
        "        avg_accuracy.append(evaluate(X_test, y_test, W, b, 3, verbose))\n",
        "    \n",
        "    if num_runs > 1:\n",
        "        print(\"Average accuracy over {} runs = {:0.2f} %\".format(num_runs, (np.sum(np.array(avg_accuracy))/float(num_runs)*100)))"
      ]
    },
    {
      "cell_type": "markdown",
      "metadata": {},
      "source": [
        "## SGD Algorithms"
      ]
    },
    {
      "cell_type": "code",
      "execution_count": 5,
      "metadata": {
        "id": "pf3nIaMSIA2g"
      },
      "outputs": [],
      "source": [
        "def add_momentum(VdW, dW, Vdb, db, beta=0.9):\n",
        "    for l in range(1, len(dW)+1):\n",
        "        VdW[l] = beta*VdW[l] + (1.-beta)*dW[l]\n",
        "        Vdb[l] = beta*Vdb[l] + (1.-beta)*db[l]\n",
        "    return VdW, Vdb"
      ]
    },
    {
      "cell_type": "code",
      "execution_count": 6,
      "metadata": {
        "id": "cbXgrl--HvmJ"
      },
      "outputs": [],
      "source": [
        "def rms_prop(SdW, dW, Sdb, db, beta2=0.999):\n",
        "    for l in range(1, len(dW)+1):\n",
        "        SdW[l] = beta2*SdW[l] + (1.-beta2)*(dW[l]**2)\n",
        "        Sdb[l] = beta2*Sdb[l] + (1.-beta2)*(db[l]**2)\n",
        "    return SdW, Sdb"
      ]
    },
    {
      "cell_type": "code",
      "execution_count": 7,
      "metadata": {
        "id": "g0H_m60R-SrW"
      },
      "outputs": [],
      "source": [
        "def adam(VdW, Vdb, SdW, dW, Sdb, db, beta1=0.9, beta2=0.999):\n",
        "    for l in range(1, len(dW)+1):\n",
        "        VdW[l] = beta1*VdW[l] + (1.-beta1)*dW[l]\n",
        "        Vdb[l] = beta1*Vdb[l] + (1.-beta1)*db[l]\n",
        "        SdW[l] = beta2*SdW[l] + (1.-beta2)*(dW[l]**2)\n",
        "        Sdb[l] = beta2*Sdb[l] + (1.-beta2)*(db[l]**2)\n",
        "    return VdW, Vdb, SdW, Sdb"
      ]
    },
    {
      "cell_type": "markdown",
      "metadata": {},
      "source": [
        "## Training (5 epochs)"
      ]
    },
    {
      "cell_type": "code",
      "execution_count": 8,
      "metadata": {
        "colab": {
          "base_uri": "https://localhost:8080/"
        },
        "id": "xsR9Kue2-YmV",
        "outputId": "e601c742-807c-498b-e91e-54323260a27c"
      },
      "outputs": [
        {
          "name": "stdout",
          "output_type": "stream",
          "text": [
            "Prediction accuracy = 55.49 %\n",
            "Prediction accuracy = 66.76 %\n",
            "Prediction accuracy = 69.54 %\n",
            "Prediction accuracy = 69.40 %\n",
            "Prediction accuracy = 83.45 %\n",
            "Average accuracy over 5 runs = 68.93 %\n"
          ]
        }
      ],
      "source": [
        "compile_nn(ext=None, num_runs=5, batch_size=32, epochs=5)"
      ]
    },
    {
      "cell_type": "code",
      "execution_count": 19,
      "metadata": {
        "colab": {
          "base_uri": "https://localhost:8080/"
        },
        "id": "jkEp4ov7IHjK",
        "outputId": "b1a056b2-b3a3-4240-c723-bd473b706d53"
      },
      "outputs": [
        {
          "name": "stdout",
          "output_type": "stream",
          "text": [
            "Training with extension - {'name': 'momentum', 'params': {'beta': 0.9}}\n",
            "Prediction accuracy = 52.16 %\n",
            "Prediction accuracy = 55.22 %\n",
            "Prediction accuracy = 51.32 %\n",
            "Prediction accuracy = 57.72 %\n",
            "Prediction accuracy = 64.39 %\n",
            "Average accuracy over 5 runs = 56.16 %\n"
          ]
        }
      ],
      "source": [
        "ext={\"name\":\"momentum\", \"params\":{\"beta\":0.9}}\n",
        "compile_nn(ext=ext, lr=0.1, num_runs=5, batch_size=32, epochs=5)"
      ]
    },
    {
      "cell_type": "code",
      "execution_count": 10,
      "metadata": {
        "colab": {
          "base_uri": "https://localhost:8080/"
        },
        "id": "xiUzHSLlH6WT",
        "outputId": "b87d0c78-eff1-409f-9f78-250d052dc5a1"
      },
      "outputs": [
        {
          "name": "stdout",
          "output_type": "stream",
          "text": [
            "Training with extension - {'name': 'rms_prop', 'params': {'beta2': 0.9, 'epsilon': 1e-07}}\n",
            "Prediction accuracy = 37.69 %\n",
            "Prediction accuracy = 53.41 %\n",
            "Prediction accuracy = 54.24 %\n",
            "Prediction accuracy = 52.43 %\n",
            "Prediction accuracy = 56.75 %\n",
            "Average accuracy over 5 runs = 50.90 %\n"
          ]
        }
      ],
      "source": [
        "ext={\"name\":\"rms_prop\", \"params\":{\"beta2\":0.9, \"epsilon\":1e-7}}\n",
        "compile_nn(ext=ext, lr=0.01, num_runs=5, batch_size=32, epochs=5)"
      ]
    },
    {
      "cell_type": "code",
      "execution_count": 20,
      "metadata": {
        "colab": {
          "base_uri": "https://localhost:8080/"
        },
        "id": "ODnlTrkp-avA",
        "outputId": "5ae2639f-1b6b-4db7-a44e-9d61f6061001"
      },
      "outputs": [
        {
          "name": "stdout",
          "output_type": "stream",
          "text": [
            "Training with extension - {'name': 'adam', 'params': {'beta1': 0.9, 'beta2': 0.999, 'epsilon': 1e-08}}\n",
            "Prediction accuracy = 60.22 %\n",
            "Prediction accuracy = 78.30 %\n",
            "Prediction accuracy = 81.22 %\n",
            "Prediction accuracy = 85.54 %\n",
            "Prediction accuracy = 45.20 %\n",
            "Average accuracy over 5 runs = 70.10 %\n"
          ]
        }
      ],
      "source": [
        "ext={\"name\":\"adam\", \"params\":{\"beta1\":0.9, \"beta2\":0.999, \"epsilon\":1e-8}}\n",
        "compile_nn( ext=ext, lr=0.1, num_runs=5, batch_size=32, epochs=5)"
      ]
    },
    {
      "cell_type": "markdown",
      "metadata": {},
      "source": [
        "## Training (300 epochs)"
      ]
    },
    {
      "cell_type": "code",
      "execution_count": 12,
      "metadata": {},
      "outputs": [
        {
          "name": "stdout",
          "output_type": "stream",
          "text": [
            "Prediction accuracy = 98.19 %\n",
            "Prediction accuracy = 79.00 %\n",
            "Prediction accuracy = 87.34 %\n",
            "Prediction accuracy = 87.34 %\n",
            "Prediction accuracy = 90.68 %\n",
            "Average accuracy over 5 runs = 88.51 %\n"
          ]
        }
      ],
      "source": [
        "compile_nn(ext=None, num_runs=5, batch_size=32, epochs=300)"
      ]
    },
    {
      "cell_type": "code",
      "execution_count": 13,
      "metadata": {},
      "outputs": [
        {
          "name": "stdout",
          "output_type": "stream",
          "text": [
            "Training with extension - {'name': 'momentum', 'params': {'beta': 0.9}}\n",
            "Prediction accuracy = 69.26 %\n",
            "Prediction accuracy = 64.67 %\n",
            "Prediction accuracy = 98.05 %\n",
            "Prediction accuracy = 88.32 %\n",
            "Prediction accuracy = 87.62 %\n",
            "Average accuracy over 5 runs = 81.59 %\n"
          ]
        }
      ],
      "source": [
        "ext={\"name\":\"momentum\", \"params\":{\"beta\":0.9}}\n",
        "compile_nn(ext=ext, lr=0.1, num_runs=5, batch_size=32, epochs=300)"
      ]
    },
    {
      "cell_type": "code",
      "execution_count": 14,
      "metadata": {},
      "outputs": [
        {
          "name": "stdout",
          "output_type": "stream",
          "text": [
            "Training with extension - {'name': 'rms_prop', 'params': {'beta2': 0.9, 'epsilon': 1e-07}}\n",
            "Prediction accuracy = 79.69 %\n",
            "Prediction accuracy = 95.41 %\n",
            "Prediction accuracy = 78.86 %\n",
            "Prediction accuracy = 95.69 %\n",
            "Prediction accuracy = 79.14 %\n",
            "Average accuracy over 5 runs = 85.76 %\n"
          ]
        }
      ],
      "source": [
        "ext={\"name\":\"rms_prop\", \"params\":{\"beta2\":0.9, \"epsilon\":1e-7}}\n",
        "compile_nn(ext=ext, lr=0.01, num_runs=5, batch_size=32, epochs=300)"
      ]
    },
    {
      "cell_type": "code",
      "execution_count": 15,
      "metadata": {},
      "outputs": [
        {
          "name": "stdout",
          "output_type": "stream",
          "text": [
            "Training with extension - {'name': 'adam', 'params': {'beta1': 0.9, 'beta2': 0.999, 'epsilon': 1e-08}}\n",
            "Prediction accuracy = 76.36 %\n",
            "Prediction accuracy = 96.38 %\n",
            "Prediction accuracy = 85.26 %\n",
            "Prediction accuracy = 94.99 %\n",
            "Prediction accuracy = 79.00 %\n",
            "Average accuracy over 5 runs = 86.40 %\n"
          ]
        }
      ],
      "source": [
        "ext={\"name\":\"adam\", \"params\":{\"beta1\":0.9, \"beta2\":0.999, \"epsilon\":1e-8}}\n",
        "compile_nn( ext=ext, lr=0.1, num_runs=5, batch_size=32, epochs=300)"
      ]
    }
  ],
  "metadata": {
    "colab": {
      "collapsed_sections": [],
      "name": "stad80.ipynb",
      "provenance": []
    },
    "kernelspec": {
      "display_name": "Python 3",
      "name": "python3"
    },
    "language_info": {
      "codemirror_mode": {
        "name": "ipython",
        "version": 3
      },
      "file_extension": ".py",
      "mimetype": "text/x-python",
      "name": "python",
      "nbconvert_exporter": "python",
      "pygments_lexer": "ipython3",
      "version": "3.9.7"
    }
  },
  "nbformat": 4,
  "nbformat_minor": 0
}
